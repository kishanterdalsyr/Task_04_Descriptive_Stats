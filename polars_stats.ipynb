{
 "cells": [
  {
   "cell_type": "code",
   "execution_count": 6,
   "metadata": {},
   "outputs": [],
   "source": [
    "import polars as pl\n",
    "from polars import Float64, Float32, Int64, Int32, Int16, Int8, UInt64, UInt32, UInt16, UInt8\n",
    "\n",
    "import os\n",
    "\n",
    "from collections import defaultdict, Counter\n",
    "\n",
    "os.chdir(\"/Users/kishanterdal/Downloads/period_03/\")\n",
    "\n",
    "def is_numeric_dtype(dtype):\n",
    "    return dtype in {Float64, Float32, Int64, Int32, Int16, Int8, UInt64, UInt32, UInt16, UInt8}\n",
    "\n",
    "def analyze_dataframe_with_polars(df: pl.DataFrame):\n",
    "    numeric_cols = [col for col, dtype in df.schema.items() if is_numeric_dtype(dtype)]\n",
    "    non_numeric_cols = [col for col, dtype in df.schema.items() if not is_numeric_dtype(dtype)]\n",
    "\n",
    "    numeric_stats = None\n",
    "    if numeric_cols:\n",
    "        numeric_stats = df.select(numeric_cols).describe().transpose(include_header=True)\n",
    "        numeric_stats = numeric_stats.rename({\"column\": \"Metric\"})\n",
    "        numeric_stats = numeric_stats.with_columns([pl.lit(\"Numeric\").alias(\"Type\")])\n",
    "\n",
    "    non_numeric_stats = []\n",
    "    for col in non_numeric_cols:\n",
    "        col_df = df.select(pl.col(col)).drop_nulls()\n",
    "        if col_df.is_empty():\n",
    "            most_freq_val = None\n",
    "            most_freq_count = None\n",
    "        else:\n",
    "            vc = df.select(pl.col(col)).drop_nulls().group_by(col).agg(pl.len().alias(\"count\")).sort(\"count\", descending=True)\n",
    "            most_freq_val = vc[0, col]\n",
    "            most_freq_count = vc[0, \"count\"]\n",
    "        non_numeric_stats.append({\n",
    "            \"Column\": col,\n",
    "            \"Type\": \"Non-Numeric\",\n",
    "            \"Count\": df.select(pl.col(col)).drop_nulls().height,\n",
    "            \"Unique Values\": df.select(pl.col(col)).n_unique(),\n",
    "            \"Most Frequent\": most_freq_val,\n",
    "            \"Frequency\": most_freq_count\n",
    "        })\n",
    "\n",
    "    df_non_numeric_stats = pl.DataFrame(non_numeric_stats)\n",
    "\n",
    "    return numeric_stats, df_non_numeric_stats\n",
    "\n",
    "ads_df = pl.read_csv(\"2024_fb_ads_president_scored_anon.csv\")\n",
    "fb_posts_df = pl.read_csv(\"2024_fb_posts_president_scored_anon.csv\")\n",
    "tw_posts_df = pl.read_csv(\"2024_tw_posts_president_scored_anon.csv\")\n",
    "\n",
    "ads_num, ads_non_num = analyze_dataframe_with_polars(ads_df)\n",
    "fb_posts_num, fb_posts_non_num = analyze_dataframe_with_polars(fb_posts_df)\n",
    "tw_posts_num, tw_posts_non_num = analyze_dataframe_with_polars(tw_posts_df)\n"
   ]
  },
  {
   "cell_type": "code",
   "execution_count": 7,
   "metadata": {},
   "outputs": [
    {
     "data": {
      "text/html": [
       "<div><style>\n",
       ".dataframe > thead > tr,\n",
       ".dataframe > tbody > tr {\n",
       "  text-align: right;\n",
       "  white-space: pre-wrap;\n",
       "}\n",
       "</style>\n",
       "<small>shape: (11, 6)</small><table border=\"1\" class=\"dataframe\"><thead><tr><th>Column</th><th>Type</th><th>Count</th><th>Unique Values</th><th>Most Frequent</th><th>Frequency</th></tr><tr><td>str</td><td>str</td><td>i64</td><td>i64</td><td>str</td><td>i64</td></tr></thead><tbody><tr><td>&quot;id&quot;</td><td>&quot;Non-Numeric&quot;</td><td>27304</td><td>27304</td><td>&quot;e353bf5c558773dbf3de874081a538…</td><td>1</td></tr><tr><td>&quot;url&quot;</td><td>&quot;Non-Numeric&quot;</td><td>27304</td><td>27304</td><td>&quot;d6ab6946a11d0a7cc73c9f86662cd4…</td><td>1</td></tr><tr><td>&quot;source&quot;</td><td>&quot;Non-Numeric&quot;</td><td>27304</td><td>14</td><td>&quot;Twitter Web App&quot;</td><td>14930</td></tr><tr><td>&quot;createdAt&quot;</td><td>&quot;Non-Numeric&quot;</td><td>27304</td><td>27014</td><td>&quot;2024-08-30 03:04:08&quot;</td><td>4</td></tr><tr><td>&quot;lang&quot;</td><td>&quot;Non-Numeric&quot;</td><td>27304</td><td>12</td><td>&quot;en&quot;</td><td>27281</td></tr><tr><td>&hellip;</td><td>&hellip;</td><td>&hellip;</td><td>&hellip;</td><td>&hellip;</td><td>&hellip;</td></tr><tr><td>&quot;isRetweet&quot;</td><td>&quot;Non-Numeric&quot;</td><td>27304</td><td>1</td><td>&quot;false&quot;</td><td>27304</td></tr><tr><td>&quot;isQuote&quot;</td><td>&quot;Non-Numeric&quot;</td><td>27304</td><td>2</td><td>&quot;false&quot;</td><td>24064</td></tr><tr><td>&quot;isConversationControlled&quot;</td><td>&quot;Non-Numeric&quot;</td><td>27304</td><td>2</td><td>&quot;false&quot;</td><td>27296</td></tr><tr><td>&quot;month_year&quot;</td><td>&quot;Non-Numeric&quot;</td><td>27304</td><td>15</td><td>&quot;2024-10&quot;</td><td>3586</td></tr><tr><td>&quot;illuminating_scored_message&quot;</td><td>&quot;Non-Numeric&quot;</td><td>27304</td><td>27136</td><td>&quot;36cb7d55fcf85362ca03f624c2f574…</td><td>21</td></tr></tbody></table></div>"
      ],
      "text/plain": [
       "shape: (11, 6)\n",
       "┌────────────────────────┬─────────────┬───────┬───────────────┬───────────────────────┬───────────┐\n",
       "│ Column                 ┆ Type        ┆ Count ┆ Unique Values ┆ Most Frequent         ┆ Frequency │\n",
       "│ ---                    ┆ ---         ┆ ---   ┆ ---           ┆ ---                   ┆ ---       │\n",
       "│ str                    ┆ str         ┆ i64   ┆ i64           ┆ str                   ┆ i64       │\n",
       "╞════════════════════════╪═════════════╪═══════╪═══════════════╪═══════════════════════╪═══════════╡\n",
       "│ id                     ┆ Non-Numeric ┆ 27304 ┆ 27304         ┆ e353bf5c558773dbf3de8 ┆ 1         │\n",
       "│                        ┆             ┆       ┆               ┆ 74081a538…            ┆           │\n",
       "│ url                    ┆ Non-Numeric ┆ 27304 ┆ 27304         ┆ d6ab6946a11d0a7cc73c9 ┆ 1         │\n",
       "│                        ┆             ┆       ┆               ┆ f86662cd4…            ┆           │\n",
       "│ source                 ┆ Non-Numeric ┆ 27304 ┆ 14            ┆ Twitter Web App       ┆ 14930     │\n",
       "│ createdAt              ┆ Non-Numeric ┆ 27304 ┆ 27014         ┆ 2024-08-30 03:04:08   ┆ 4         │\n",
       "│ lang                   ┆ Non-Numeric ┆ 27304 ┆ 12            ┆ en                    ┆ 27281     │\n",
       "│ …                      ┆ …           ┆ …     ┆ …             ┆ …                     ┆ …         │\n",
       "│ isRetweet              ┆ Non-Numeric ┆ 27304 ┆ 1             ┆ false                 ┆ 27304     │\n",
       "│ isQuote                ┆ Non-Numeric ┆ 27304 ┆ 2             ┆ false                 ┆ 24064     │\n",
       "│ isConversationControll ┆ Non-Numeric ┆ 27304 ┆ 2             ┆ false                 ┆ 27296     │\n",
       "│ ed                     ┆             ┆       ┆               ┆                       ┆           │\n",
       "│ month_year             ┆ Non-Numeric ┆ 27304 ┆ 15            ┆ 2024-10               ┆ 3586      │\n",
       "│ illuminating_scored_me ┆ Non-Numeric ┆ 27304 ┆ 27136         ┆ 36cb7d55fcf85362ca03f ┆ 21        │\n",
       "│ ssage                  ┆             ┆       ┆               ┆ 624c2f574…            ┆           │\n",
       "└────────────────────────┴─────────────┴───────┴───────────────┴───────────────────────┴───────────┘"
      ]
     },
     "execution_count": 7,
     "metadata": {},
     "output_type": "execute_result"
    }
   ],
   "source": [
    "ads_num\n",
    "ads_non_num\n",
    "\n",
    "fb_posts_num\n",
    "fb_posts_non_num\n",
    "\n",
    "tw_posts_num\n",
    "tw_posts_non_num"
   ]
  }
 ],
 "metadata": {
  "kernelspec": {
   "display_name": "Python 3",
   "language": "python",
   "name": "python3"
  },
  "language_info": {
   "codemirror_mode": {
    "name": "ipython",
    "version": 3
   },
   "file_extension": ".py",
   "mimetype": "text/x-python",
   "name": "python",
   "nbconvert_exporter": "python",
   "pygments_lexer": "ipython3",
   "version": "3.9.6"
  },
  "orig_nbformat": 4
 },
 "nbformat": 4,
 "nbformat_minor": 2
}
